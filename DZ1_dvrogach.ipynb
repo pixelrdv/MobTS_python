{
 "cells": [
  {
   "cell_type": "code",
   "execution_count": 5,
   "metadata": {
    "collapsed": false
   },
   "outputs": [
    {
     "name": "stdout",
     "output_type": "stream",
     "text": [
      "Здравствуй, дивный новый мир!\n"
     ]
    }
   ],
   "source": [
    "print 'Здравствуй, дивный новый мир!'"
   ]
  },
  {
   "cell_type": "markdown",
   "metadata": {},
   "source": [
    "Есть данные в БД Oracle. Есть рабочий скрипт. Было бы неплохо создать портал, где человек смог бы сам запускать через браузер этот скрипт, не трогая меня!\n",
    "\n",
    "Директор департамента хочет видеть KPI на еженедельной основе. Хочу ему сделать портал с графиками, которые будут обновляться по понедельникам\n",
    "\n",
    "Когда сделаю первые две задачи, то хочу создать экпертную систему, которая будет проводить по дереву вопросов пользователя и давать ему ответ"
   ]
  },
  {
   "cell_type": "code",
   "execution_count": 36,
   "metadata": {
    "collapsed": false
   },
   "outputs": [
    {
     "name": "stdout",
     "output_type": "stream",
     "text": [
      "97969.1416603\n"
     ]
    }
   ],
   "source": [
    "s = 200000\n",
    "p = 8.\n",
    "f = 12.\n",
    "l = 5.\n",
    "\n",
    "res= (s * (1 + (p/(100*f)))**(f*l))-s\n",
    "\n",
    "print (res)\n"
   ]
  },
  {
   "cell_type": "code",
   "execution_count": 38,
   "metadata": {
    "collapsed": false
   },
   "outputs": [
    {
     "name": "stdout",
     "output_type": "stream",
     "text": [
      "93865.61536\n"
     ]
    }
   ],
   "source": [
    "s = 200000\n",
    "p = 8.\n",
    "f = 1\n",
    "l = 5\n",
    "\n",
    "print ( (s * (1 + (p/(100*f)))**(f*l))-s)"
   ]
  },
  {
   "cell_type": "code",
   "execution_count": 20,
   "metadata": {
    "collapsed": false
   },
   "outputs": [
    {
     "data": {
      "text/plain": [
       "0"
      ]
     },
     "execution_count": 20,
     "metadata": {},
     "output_type": "execute_result"
    }
   ],
   "source": [
    "200000*(1+(8/100*12))**(12*5)-200000"
   ]
  },
  {
   "cell_type": "markdown",
   "metadata": {},
   "source": [
    "$$ c = sqrt(s**2+b**2)$$"
   ]
  },
  {
   "cell_type": "code",
   "execution_count": null,
   "metadata": {
    "collapsed": true
   },
   "outputs": [],
   "source": []
  }
 ],
 "metadata": {
  "kernelspec": {
   "display_name": "Python 2",
   "language": "python",
   "name": "python2"
  },
  "language_info": {
   "codemirror_mode": {
    "name": "ipython",
    "version": 2
   },
   "file_extension": ".py",
   "mimetype": "text/x-python",
   "name": "python",
   "nbconvert_exporter": "python",
   "pygments_lexer": "ipython2",
   "version": "2.7.13"
  }
 },
 "nbformat": 4,
 "nbformat_minor": 2
}
