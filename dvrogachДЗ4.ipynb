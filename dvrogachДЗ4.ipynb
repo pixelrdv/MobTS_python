{
 "cells": [
  {
   "cell_type": "markdown",
   "metadata": {},
   "source": [
    "Задание 1.1 \n",
    "\n",
    "Напишите функцию, копирующую файл\n",
    "\n",
    "source_path должен существовать, а отсутствующие промежуточные папки из target_path должны быть созданы\n",
    "\n",
    "Подсказка: можно прочитать исходный файл и записать в новый.\n"
   ]
  },
  {
   "cell_type": "code",
   "execution_count": 444,
   "metadata": {
    "collapsed": true
   },
   "outputs": [],
   "source": [
    "#создаём файл\n",
    "text = \"\"\"123\n",
    "4567\n",
    " 8910\n",
    "\"\"\"\n",
    "with open('task_1.1_source', 'w') as f:\n",
    "    f.write(text)"
   ]
  },
  {
   "cell_type": "code",
   "execution_count": 445,
   "metadata": {
    "collapsed": false
   },
   "outputs": [
    {
     "name": "stdout",
     "output_type": "stream",
     "text": [
      "123\n",
      "4567\n",
      " 8910\n"
     ]
    }
   ],
   "source": [
    "!type task_1.1_source"
   ]
  },
  {
   "cell_type": "code",
   "execution_count": 446,
   "metadata": {
    "collapsed": false
   },
   "outputs": [],
   "source": [
    "def copy_file(source_path, target_path):\n",
    "    import os\n",
    "    if os.path.exists(target_path)==False:#если папка существует, то создавать заново не надо\n",
    "        os.makedirs(target_path)\n",
    "\n",
    "    with open(source_path+'\\\\task_1.1_source', 'r') as f1, open(target_path+'\\\\task_1.1_source', 'w') as f2:\n",
    "        f2.write(f1.read())  #записывает во второй файл, то что прочитали в первом\n",
    "    return"
   ]
  },
  {
   "cell_type": "code",
   "execution_count": 447,
   "metadata": {
    "collapsed": false,
    "scrolled": true
   },
   "outputs": [
    {
     "name": "stdout",
     "output_type": "stream",
     "text": [
      "True\n"
     ]
    }
   ],
   "source": [
    "a=os.getcwd()#начальная папка с файлом\n",
    "b = os.getcwd()+r'\\2017\\06\\08'#куда надо скопировать текст\n",
    "copy_file(a, b)\n",
    "\n",
    "#проверка двух файлов. Мол всё работает верно.\n",
    "with open(a+'\\\\task_1.1_source', 'r') as f1, open(b+'\\\\task_1.1_source', 'r') as f2:\n",
    "        print f1.read()==f2.read()\n",
    "        "
   ]
  },
  {
   "cell_type": "markdown",
   "metadata": {},
   "source": [
    "Задание 1.2 \n",
    "\n",
    "В файле source_path находится англо-латинский словарь, то есть список слов на английском языке и их переводы на латинский язык (переводов может быть несколько). Необходимо создать из него латино-английский словарь по пути target_path. Например, из словаря"
   ]
  },
  {
   "cell_type": "code",
   "execution_count": 422,
   "metadata": {
    "collapsed": false
   },
   "outputs": [],
   "source": [
    "#задаём начальный файл\n",
    "text = \"\"\"apple - malum, pomum, popula\n",
    "fruit - baca, bacca, popum\n",
    "punishment - malum, multa\"\"\"\n",
    "with open('task_1.2_source', 'w') as f:\n",
    "    f.write(text)"
   ]
  },
  {
   "cell_type": "code",
   "execution_count": 423,
   "metadata": {
    "collapsed": false
   },
   "outputs": [
    {
     "name": "stdout",
     "output_type": "stream",
     "text": [
      "apple - malum, pomum, popula\n",
      "fruit - baca, bacca, popum\n",
      "punishment - malum, multa\n"
     ]
    }
   ],
   "source": [
    "!type task_1.2_source"
   ]
  },
  {
   "cell_type": "code",
   "execution_count": 442,
   "metadata": {
    "collapsed": false
   },
   "outputs": [],
   "source": [
    "def eng_lat_2_lat_eng(source_path, target_path):\n",
    "    \n",
    "    with open(source_path+'\\\\task_1.2_source', 'r') as f:#читаем файл\n",
    "        old_text=f.read()\n",
    "                \n",
    "    new_list=(re.split('\\n',old_text))#создаём масив, где элементом становится каждая отдельная строка текста\n",
    "    i,j,new_text=0,1,''\n",
    "    dic={}\n",
    "    for couple in new_list:#начинаем перебор строк\n",
    "        new_list[i]=re.split('[-,]',couple)#разбиваем его, чтобы каждое слово и на латыни и на англ. было отдельно\n",
    "        for id in new_list[i]:#перебираем каждое слово\n",
    "            if id !=new_list[i][0] :#каждое, кроме первого\n",
    "                if id.strip() not in dic:#начинаем формировать словарь. латынь - ключ, англ. - значение\n",
    "                    dic[id.strip()]= new_list[i][0].strip()#если такого ключа не было, то создаём\n",
    "                else:\n",
    "                    dic[id.strip()]=dic[id.strip()]+', '+new_list[i][0].strip()#если был, то к предыдущему значению добавляем новое\n",
    "            j=+1\n",
    "        i=+1\n",
    "        j=1\n",
    "\n",
    "    dic=(sorted(dic.items(), key=lambda t: t[0]))#сортируем итоговый словарь по ключу\n",
    "\n",
    "\n",
    "    for x in xrange(0,len(dic)): new_text= new_text+dic[x][0]+' - '+dic[x][1]+'\\n'#формируем текст на выход через - и перенос троки\n",
    "    \n",
    "    import os#блок создания нового файла по указанному пути, куда и запишем текст\n",
    "    if os.path.exists(target_path)==False:\n",
    "        os.makedirs(target_path)\n",
    "\n",
    "    with  open(target_path+'\\\\task_1.2_source', 'w') as f2:\n",
    "        f2.write(new_text)     \n",
    "    \n",
    "    return "
   ]
  },
  {
   "cell_type": "code",
   "execution_count": 443,
   "metadata": {
    "collapsed": false
   },
   "outputs": [
    {
     "name": "stdout",
     "output_type": "stream",
     "text": [
      "baca - fruit\n",
      "bacca - fruit\n",
      "malum - apple, punishment\n",
      "multa - punishment\n",
      "pomum - apple\n",
      "popula - apple\n",
      "popum - fruit\n",
      "\n"
     ]
    }
   ],
   "source": [
    "a=os.getcwd()#нужная папка\n",
    "b = os.getcwd()+r'\\2017\\06\\09'\n",
    "eng_lat_2_lat_eng(a, b)\n",
    "\n",
    "#проверка словаря. Открывает новый файл словаря и показывает результат\n",
    "with open(b+'\\\\task_1.2_source', 'r') as f2:\n",
    "        print f2.read()\n",
    "        \n",
    "\n"
   ]
  },
  {
   "cell_type": "markdown",
   "metadata": {},
   "source": [
    "Задание 1.3 \n",
    "\n",
    "Напишите функцию, вычисляющую длину русского слова, независимо от его кодировки\n",
    "\n",
    "Если параметр encoding задан, то нужно декодировать текст при помощи этой кодировки. А если он не задан, то кодировку надо определить самостоятельно.\n"
   ]
  },
  {
   "cell_type": "code",
   "execution_count": 465,
   "metadata": {
    "collapsed": true
   },
   "outputs": [],
   "source": [
    "import chardet"
   ]
  },
  {
   "cell_type": "code",
   "execution_count": 998,
   "metadata": {
    "collapsed": false
   },
   "outputs": [],
   "source": [
    "\n",
    "def my_len(word, encoding=None):\n",
    "    try:#chardet.detect не умеет работать с артументом типа u'строка', поэтому ставим обработчик ошибки\n",
    "        chardet.detect(word)\n",
    "    except:\n",
    "        return len(word)\n",
    "        \n",
    "    if encoding==None:#если кодировка не задана, то unicode сразу определяем длину\n",
    "        if word is unicode:\n",
    "            return len(word)\n",
    "        else:#а если не unicode, то определяем кодировку, переводим в unicode и снова определяем длину\n",
    "            return len(unicode(word,encoding=chardet.detect(word)['encoding']))\n",
    "    else:\n",
    "        return len(unicode(word,encoding))"
   ]
  },
  {
   "cell_type": "code",
   "execution_count": 999,
   "metadata": {
    "collapsed": false
   },
   "outputs": [
    {
     "data": {
      "text/plain": [
       "True"
      ]
     },
     "execution_count": 999,
     "metadata": {},
     "output_type": "execute_result"
    }
   ],
   "source": [
    "my_len('текст') == 5"
   ]
  },
  {
   "cell_type": "code",
   "execution_count": 1000,
   "metadata": {
    "collapsed": false
   },
   "outputs": [
    {
     "data": {
      "text/plain": [
       "True"
      ]
     },
     "execution_count": 1000,
     "metadata": {},
     "output_type": "execute_result"
    }
   ],
   "source": [
    "my_len(u'текст') == 5"
   ]
  },
  {
   "cell_type": "code",
   "execution_count": 1001,
   "metadata": {
    "collapsed": false
   },
   "outputs": [
    {
     "data": {
      "text/plain": [
       "True"
      ]
     },
     "execution_count": 1001,
     "metadata": {},
     "output_type": "execute_result"
    }
   ],
   "source": [
    "my_len(u'ааааа'.encode('utf_16'), encoding='utf_16') == 5"
   ]
  },
  {
   "cell_type": "code",
   "execution_count": 1002,
   "metadata": {
    "collapsed": false
   },
   "outputs": [
    {
     "data": {
      "text/plain": [
       "True"
      ]
     },
     "execution_count": 1002,
     "metadata": {},
     "output_type": "execute_result"
    }
   ],
   "source": [
    "my_len(u'текст'.encode('windows-1251'))==5"
   ]
  },
  {
   "cell_type": "markdown",
   "metadata": {},
   "source": [
    "Задание 2.1 \n",
    "\n",
    "Напишите функцию, которая выписывает список файлов в данной директории и сортирует их в соответствии с их размером. Функция должна получать путь к директории в качестве аргумента и печатать на экран имена всех файлов в ней и их размеры, причем первыми должны идти файлы с наибольшими размерами, а в случае одинакового размер файлы сортируются по алфавиту.\n"
   ]
  },
  {
   "cell_type": "code",
   "execution_count": 682,
   "metadata": {
    "collapsed": false
   },
   "outputs": [],
   "source": [
    "def get_dir_content_info(dir_path):\n",
    "    dic=[]\n",
    "    for x in os.listdir(dir_path):#перебираем то, что в папке\n",
    "        if os.path.isfile(x)==True:#выделяем только файлы\n",
    "            dic.append((x.decode('windows-1251'),int(os.stat(x).st_size)))#производит перекодировку названия файла и сразуотображаем его размер и записываем всё в список\n",
    "\n",
    "    dic= sorted(dic,key=lambda x: x[1],reverse=True)#сортируем список по размеру, дальше по умолчанию идет сортировка по названию\n",
    "    for x in dic:#вывод на экран\n",
    "        print x[0], x[1]\n",
    "    return ''"
   ]
  },
  {
   "cell_type": "code",
   "execution_count": 683,
   "metadata": {
    "collapsed": false
   },
   "outputs": [
    {
     "name": "stdout",
     "output_type": "stream",
     "text": [
      "dvrogachДЗ3.ipynb 27320\n",
      "dvrogachДЗ3(1).ipynb 23548\n",
      "dvrogachДЗ4.ipynb 11626\n",
      "dvrogachДЗ2.ipynb 9917\n",
      "blabla.ipynb 8170\n",
      "2_syntax_part1 - Copy.ipynb 7315\n",
      "2_syntax_part1.ipynb 7315\n",
      "dvrogachДЗ2-1.ipynb 5526\n",
      "dvrogachДЗ2-2.ipynb 5526\n",
      "dvrogachДЗ1.ipynb 4175\n",
      "task_1.2_source 83\n",
      "task_1.1_source 18\n",
      "\n"
     ]
    }
   ],
   "source": [
    "print get_dir_content_info(os.getcwd())"
   ]
  },
  {
   "cell_type": "markdown",
   "metadata": {
    "collapsed": false
   },
   "source": [
    "Задание 2.2¶ \n",
    "\n",
    "Аналогично 1.2, но только теперь англо-русский в русско-английский словарь. Дополнительно теперь будет ещё параметр encoding для кодировки файлов. Если он None, то нужно самостоятельно определить кодировку файла.\n"
   ]
  },
  {
   "cell_type": "code",
   "execution_count": 705,
   "metadata": {
    "collapsed": true
   },
   "outputs": [],
   "source": [
    "#заадём словарь\n",
    "text = \"\"\"spam - спам, в топку\n",
    "egg - яйцо, еда\n",
    "meat- мясо, добыча, еда\"\"\"\n",
    "with open('task_2.2_source', 'w') as f:\n",
    "    f.write(text)"
   ]
  },
  {
   "cell_type": "code",
   "execution_count": 706,
   "metadata": {
    "collapsed": false
   },
   "outputs": [
    {
     "name": "stdout",
     "output_type": "stream",
     "text": [
      "spam - СЃРїР°Рј, РІ С‚РѕРїРєСѓ\n",
      "egg - СЏР№С†Рѕ, РµРґР°\n",
      "meat- РјСЏСЃРѕ, РґРѕР±С‹С‡Р°, РµРґР°\n"
     ]
    }
   ],
   "source": [
    "!type task_2.2_source"
   ]
  },
  {
   "cell_type": "code",
   "execution_count": 707,
   "metadata": {
    "collapsed": true
   },
   "outputs": [],
   "source": [
    "#для решения задачи не пришлось переделывать функцию, всё корректно работает и в ней.\n",
    "def eng_rus_2_rus_eng(source_path, target_path,encoding=None):\n",
    "    \n",
    "    with open(source_path+'\\\\task_2.2_source', 'r') as f:\n",
    "        old_text=f.read()\n",
    "                \n",
    "    new_list=(re.split('\\n',old_text))\n",
    "    i,j,new_text=0,1,''\n",
    "    dic={}\n",
    "    for couple in new_list:\n",
    "        new_list[i]=re.split('[-,]',couple)\n",
    "        for id in new_list[i]:\n",
    "            if id !=new_list[i][0] :\n",
    "                if id.strip() not in dic:\n",
    "                    dic[id.strip()]= new_list[i][0].strip()\n",
    "                else:\n",
    "                    dic[id.strip()]=dic[id.strip()]+', '+new_list[i][0].strip()\n",
    "            j=+1\n",
    "        i=+1\n",
    "        j=1\n",
    "\n",
    "    dic=(sorted(dic.items(), key=lambda t: t[0]))\n",
    "\n",
    "\n",
    "    for x in xrange(0,len(dic)): new_text= new_text+dic[x][0]+' - '+dic[x][1]+'\\n'\n",
    "    \n",
    "    import os\n",
    "    if os.path.exists(target_path)==False:\n",
    "        os.makedirs(target_path)\n",
    "\n",
    "    with  open(target_path+'\\\\task_2.2_source', 'w') as f2:\n",
    "        f2.write(new_text)     \n",
    "    \n",
    "    return "
   ]
  },
  {
   "cell_type": "code",
   "execution_count": 708,
   "metadata": {
    "collapsed": false
   },
   "outputs": [
    {
     "name": "stdout",
     "output_type": "stream",
     "text": [
      "в топку - spam\n",
      "добыча - meat\n",
      "еда - egg, meat\n",
      "мясо - meat\n",
      "спам - spam\n",
      "яйцо - egg\n",
      "\n"
     ]
    }
   ],
   "source": [
    "a=os.getcwd()#нужная папка\n",
    "b = os.getcwd()+r'\\2017\\06\\09'\n",
    "eng_rus_2_rus_eng(a, b,'ISO-8859-1')\n",
    "\n",
    "#проверка словаря. Открывает новый файл словаря и показывает результат\n",
    "with open(b+'\\\\task_2.2_source', 'r') as f2:\n",
    "        print f2.read()"
   ]
  },
  {
   "cell_type": "markdown",
   "metadata": {
    "collapsed": true
   },
   "source": [
    "Задание 3.1 \n",
    "\n",
    "Ваша функция должна получать на вход какой-нибудь текст (может быть и на русском языке) и переставлять буквы в его словах случайным образом.\n",
    "\n",
    "Если seed None, то буквы переставляются не случайным образом, а сортируются по алфавиту (латинские символы считаем меньше кириллических). Если seed не None, то нужно использовать это seed при инициализации рандома. Сравните результаты.\n"
   ]
  },
  {
   "cell_type": "code",
   "execution_count": 896,
   "metadata": {
    "collapsed": false
   },
   "outputs": [],
   "source": [
    "def text_shuffle(text, seed=None):\n",
    "    import random\n",
    "\n",
    "    text1,new_text='',''\n",
    "    p=list(',.?/!@#$%^&*();:\"{}[]')#задаём список символов, от которых нужно очистить строчку\n",
    "\n",
    "    text=text.decode('utf-8')#декодируем, чтобы random корректно сработал\n",
    "\n",
    "    for x in text:#очищаем текст от пунктуации\n",
    "        if x not in p: text1= text1+ x\n",
    "    \n",
    "    if seed!=None:\n",
    "        random.seed(seed)#если в функции задали seed, то использовать его для randoma\n",
    "    else:#если не задан, то сортируем текст, выносим из него сначала русские буквы, потом английские и скрепляем их вместе\n",
    "        text1=''.join(re.findall(u'[а-я]+',''.join(sorted(list(text1))))+re.findall('[a-z]+',''.join(sorted(list(text1)))))\n",
    "        print text1\n",
    "        return\n",
    "\n",
    "\n",
    "    #продоление, если задали рамдом\n",
    "    list_words = text1.split(' ')#разбиваем текст черех \" \"\n",
    "\n",
    "    for x in list_words:\n",
    "        if len(x)>3:#если слово менее трех символов, то рандом не нужен\n",
    "            a=list(x[1:-1])#выделяем, слово без 1 и последней буквы и отдаём в рандом\n",
    "            random.shuffle(a)\n",
    "            x=x[0]+(''.join(a))+x[-1]#теперь собираем обратно слово из 1 символа, смешенного набора и последнего символа\n",
    "            new_text=new_text+' '+x #добавляем новое слово в текст\n",
    "        else:\n",
    "            new_text=new_text+' '+x\n",
    "    \n",
    "    print new_text.strip()        #удаляем лишний пробел\n",
    "    return"
   ]
  },
  {
   "cell_type": "markdown",
   "metadata": {},
   "source": [
    "Если перед началом обработки привести тест к utf-8, то функция random будет перемешивать множество \"конструкций байт\" (символов), а не сами байты между собой. Если закоментировать строку text=text.decode('utf-8') и в конце вывести команду print chardet.detect(new_text), то в результате получим {'confidence': 0.0, 'encoding': None}. Если текст переводится в unicode то таких проблем не будет и текст будет корректным"
   ]
  },
  {
   "cell_type": "code",
   "execution_count": 904,
   "metadata": {
    "collapsed": false
   },
   "outputs": [
    {
     "name": "stdout",
     "output_type": "stream",
     "text": [
      "аааааааааааааааббввввввдееееееееееежззззииииииииииииииииииииийккккллллллллллллммммммннннннннннооооооооооооппппрррррррррссссссссссссттттттттттттттууууууфхццчччшыыыыььььэююяяяdddeeeeeeeennoosss\n"
     ]
    }
   ],
   "source": [
    "text =\"\"\"Если seed None, то буквы переставляются не случайным образом, а сортируются по алфавиту (латинские символы считаем меньше кириллических). Если seed не None, то нужно использовать это seed при инициализации рандома. Сравните результаты.\n",
    "\"\"\"\n",
    "\n",
    "text_shuffle(text)"
   ]
  },
  {
   "cell_type": "code",
   "execution_count": 905,
   "metadata": {
    "collapsed": false
   },
   "outputs": [
    {
     "name": "stdout",
     "output_type": "stream",
     "text": [
      "Если seed Nnoe то бвкуы псюврееттасляя не снйлучаым обозрам а ситтуюорсря по атфавлиу лакитнсие смлвоиы счаеитм меьнше кличирисеилкх Если seed не None то ннжуо изоосплтаьвь это seed при ицилциаизиани роднама Срвинтае ртатлыьзуе\n"
     ]
    }
   ],
   "source": [
    "text =\"\"\"Если seed None, то буквы переставляются не случайным образом, а сортируются по алфавиту (латинские символы считаем меньше кириллических). Если seed не None, то нужно использовать это seed при инициализации рандома. Сравните результаты.\n",
    "\"\"\"\n",
    "\n",
    "text_shuffle(text,2)"
   ]
  },
  {
   "cell_type": "markdown",
   "metadata": {},
   "source": [
    "Задание 3.2¶ \n",
    "\n",
    "Напишите функцию, которая читает два файла построчно (то есть не загружая всё содержимое в память), и записывает в выходной файл результат лексиграфического сравнение срочки из первого файла и из второго (First, Second и Equal по аналогии c предыдущим ДЗ).\n"
   ]
  },
  {
   "cell_type": "code",
   "execution_count": 991,
   "metadata": {
    "collapsed": false
   },
   "outputs": [],
   "source": [
    "#задаём простые файлы\n",
    "a=\"\"\"aaaa\n",
    "bbbbb\n",
    "ccccc\n",
    "\"\"\"\n",
    "b=\"\"\"bbbbb\n",
    "aaaa\n",
    "ccccc\n",
    "\"\"\"\n",
    "\n",
    "with open ('task_3.2_source-1', 'w') as f1, open ('task_3.2_source-2','w') as f2:\n",
    "    f1.write(a)\n",
    "    f2.write(b)"
   ]
  },
  {
   "cell_type": "code",
   "execution_count": 994,
   "metadata": {
    "collapsed": false
   },
   "outputs": [],
   "source": [
    "def ineq(frs,scn):#функция из предыдущих заданий для определения \"больше-меньше-равно\n",
    "    if frs>scn:\n",
    "        sol= 'Second'\n",
    "    elif frs<scn:\n",
    "        sol= 'First'\n",
    "    else:\n",
    "        sol= 'Equal'\n",
    "    return sol\n",
    "\n",
    "\n",
    "\n",
    "def process(fst_source_path, snd_source_path, target_path):\n",
    "    res_text=''\n",
    "    \n",
    "    with open (fst_source_path, 'r') as f1, open (snd_source_path,'r') as f2:#одновременно открываем два файла\n",
    "        for line in zip(f1.readlines(), f2.readlines()):#начинаем читать построчно, объединяя строки в файла в пары\n",
    "            res_text=res_text+ ineq(line[0],line[1])+'\\n'#отправляем значение пар в функцию, и записываем результат в строку с \\n\n",
    "            \n",
    "    \n",
    "    import os#блок записи в новый файл\n",
    "    if os.path.exists(target_path)==False:\n",
    "        os.makedirs(target_path)\n",
    "\n",
    "    with  open(target_path+'\\\\task_3.2_source', 'w') as f:\n",
    "        f.write(res_text)\n",
    "    return res_text"
   ]
  },
  {
   "cell_type": "code",
   "execution_count": 996,
   "metadata": {
    "collapsed": false
   },
   "outputs": [
    {
     "name": "stdout",
     "output_type": "stream",
     "text": [
      "First\n",
      "Second\n",
      "Equal\n",
      "\n"
     ]
    }
   ],
   "source": [
    "print process('task_3.2_source-1','task_3.2_source-2',os.getcwd()+r'\\2017\\06\\11')"
   ]
  },
  {
   "cell_type": "code",
   "execution_count": null,
   "metadata": {
    "collapsed": true
   },
   "outputs": [],
   "source": []
  },
  {
   "cell_type": "code",
   "execution_count": null,
   "metadata": {
    "collapsed": true
   },
   "outputs": [],
   "source": []
  }
 ],
 "metadata": {
  "kernelspec": {
   "display_name": "Python 2",
   "language": "python",
   "name": "python2"
  },
  "language_info": {
   "codemirror_mode": {
    "name": "ipython",
    "version": 2
   },
   "file_extension": ".py",
   "mimetype": "text/x-python",
   "name": "python",
   "nbconvert_exporter": "python",
   "pygments_lexer": "ipython2",
   "version": "2.7.13"
  }
 },
 "nbformat": 4,
 "nbformat_minor": 2
}
