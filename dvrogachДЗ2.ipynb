{
 "cells": [
  {
   "cell_type": "markdown",
   "metadata": {},
   "source": [
    "# Базовая часть "
   ]
  },
  {
   "cell_type": "markdown",
   "metadata": {},
   "source": [
    "Решил, оставить возможность выбора ключа.\n",
    "Особая сложность была с сохранением.\n",
    "\n",
    "Получалось my_Base = {'телефон1', {данные по телефон1}, 'телефон2',{данные по телефон1}}\n",
    "\n",
    "спасло всё .copy() (смотри предпоследнюю строчку кода).\n",
    "это было откровение дня!"
   ]
  },
  {
   "cell_type": "code",
   "execution_count": 116,
   "metadata": {
    "collapsed": true
   },
   "outputs": [],
   "source": [
    "reviews = [\"\"\"Телефон абонента: +7 916 000 00 01\n",
    "Время: 10:34\n",
    "Дата: 20.05.2017\n",
    "Оценка: 1\n",
    "Длительность разговора (мин.): 0:32\n",
    "Комментарий: Общение с сотрудником вашей техподдержки мне не понравилось. Раньше всегда отвечала девушка с приятным голосом, а сегодня какой-то мужчина. Совсем никуда не годится, примите меры!!!\"\"\",\n",
    "\"\"\"Телефон абонента: +7 916 000 00 02\n",
    "Время: 9:20\n",
    "Дата: 21.05.2017\n",
    "Оценка: 5\n",
    "Длительность разговора (мин.): 25:07\n",
    "Комментарий: С моей проблемой мне помогли, большое спасибо!\"\"\"]"
   ]
  },
  {
   "cell_type": "code",
   "execution_count": 186,
   "metadata": {
    "collapsed": false
   },
   "outputs": [
    {
     "data": {
      "text/plain": [
       "True"
      ]
     },
     "execution_count": 186,
     "metadata": {},
     "output_type": "execute_result"
    }
   ],
   "source": [
    "my_base=dict()\n",
    "my_base_record_id=list()\n",
    "my_base_record_value=dict()\n",
    "id='Телефон абонента'\n",
    "\n",
    "for record in reviews:\n",
    "    for line in record.split('\\n'):\n",
    "        if line:\n",
    "            splitted_line = line.split(': ')\n",
    "            field_name = splitted_line[0]\n",
    "            field_value = splitted_line[1]\n",
    "                        \n",
    "            if field_name== id:\n",
    "                my_base_record_id.append(field_value)\n",
    "            else:\n",
    "                my_base_record_value[field_name]=field_value\n",
    "            count = len(my_base_record_id)\n",
    "    my_base[my_base_record_id[count-1]]=my_base_record_value.copy()\n",
    "\n",
    "\n",
    "my_base['+7 916 000 00 01']['Дата'] == '20.05.2017'"
   ]
  },
  {
   "cell_type": "markdown",
   "metadata": {},
   "source": [
    "# Продвинутая часть"
   ]
  },
  {
   "cell_type": "markdown",
   "metadata": {},
   "source": [
    "Эта часть в разработке.\n",
    "\n",
    "Предполагается с помощью конструкции try поочередно перебирать основные типы. Либо использоваться метод .split() с разделителем, что различать время и дату от всего остального"
   ]
  },
  {
   "cell_type": "markdown",
   "metadata": {},
   "source": [
    "# Сложная часть"
   ]
  },
  {
   "cell_type": "code",
   "execution_count": 197,
   "metadata": {
    "collapsed": false
   },
   "outputs": [
    {
     "name": "stdout",
     "output_type": "stream",
     "text": [
      "<type 'tuple'> (1, 2, 3, 4, 5)\n",
      "<type 'list'>\n",
      "<type 'tuple'> (1, 2, 3, 4, 5, 6)\n"
     ]
    }
   ],
   "source": [
    "my_t=(1,2,3,4,5)\n",
    "print type(my_t), my_t\n",
    "\n",
    "my_t=list(my_t)\n",
    "print type(my_t)\n",
    "\n",
    "my_t.append(6)\n",
    "my_t=tuple(my_t)\n",
    "print type(my_t), my_t"
   ]
  },
  {
   "cell_type": "markdown",
   "metadata": {},
   "source": [
    "вывод - можно менять tuple"
   ]
  },
  {
   "cell_type": "code",
   "execution_count": 208,
   "metadata": {
    "collapsed": false
   },
   "outputs": [
    {
     "name": "stdout",
     "output_type": "stream",
     "text": [
      "set([1, (1, 2, 3, 4, 5, 6)])\n"
     ]
    },
    {
     "data": {
      "text/plain": [
       "{(1, 2, 3, 4, 5, 6): 1}"
      ]
     },
     "execution_count": 208,
     "metadata": {},
     "output_type": "execute_result"
    }
   ],
   "source": [
    "di = dict()\n",
    "my_set=set()\n",
    "my_set.add(1)\n",
    "my_set.add(my_t)\n",
    "print my_set\n",
    "\n",
    "di[my_t]=1\n",
    "di"
   ]
  },
  {
   "cell_type": "markdown",
   "metadata": {},
   "source": [
    "вывод tuple может быть ключом и быть частью множества"
   ]
  }
 ],
 "metadata": {
  "kernelspec": {
   "display_name": "Python 2",
   "language": "python",
   "name": "python2"
  },
  "language_info": {
   "codemirror_mode": {
    "name": "ipython",
    "version": 2
   },
   "file_extension": ".py",
   "mimetype": "text/x-python",
   "name": "python",
   "nbconvert_exporter": "python",
   "pygments_lexer": "ipython2",
   "version": "2.7.13"
  }
 },
 "nbformat": 4,
 "nbformat_minor": 2
}
